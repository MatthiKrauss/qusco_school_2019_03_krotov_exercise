{
 "cells": [
  {
   "cell_type": "markdown",
   "metadata": {},
   "source": [
    "<img src=\"QuSCo_Logo_CMYK.jpg\" alt=\"Here should be the qusco logo!\" width=\"500\">\n",
    "\n",
    "---"
   ]
  },
  {
   "cell_type": "code",
   "execution_count": 1,
   "metadata": {},
   "outputs": [],
   "source": [
    "import qutip\n",
    "import numpy as np\n",
    "import scipy\n",
    "import matplotlib\n",
    "import matplotlib.pylab as plt\n",
    "import krotov"
   ]
  },
  {
   "cell_type": "markdown",
   "metadata": {},
   "source": [
    "# Exercise 2 -  State-to-state transfer in a two-level system using Krotov\n",
    "$\\newcommand{tr}[0]{\\operatorname{tr}}\n",
    "\\newcommand{diag}[0]{\\operatorname{diag}}\n",
    "\\newcommand{abs}[0]{\\operatorname{abs}}\n",
    "\\newcommand{pop}[0]{\\operatorname{pop}}\n",
    "\\newcommand{aux}[0]{\\text{aux}}\n",
    "\\newcommand{opt}[0]{\\text{opt}}\n",
    "\\newcommand{tgt}[0]{\\text{tgt}}\n",
    "\\newcommand{init}[0]{\\text{init}}\n",
    "\\newcommand{lab}[0]{\\text{lab}}\n",
    "\\newcommand{rwa}[0]{\\text{rwa}}\n",
    "\\newcommand{bra}[1]{\\langle#1\\vert}\n",
    "\\newcommand{ket}[1]{\\vert#1\\rangle}\n",
    "\\newcommand{Bra}[1]{\\left\\langle#1\\right\\vert}\n",
    "\\newcommand{Ket}[1]{\\left\\vert#1\\right\\rangle}\n",
    "\\newcommand{Braket}[2]{\\left\\langle #1\\vphantom{#2} \\mid\n",
    "#2\\vphantom{#1}\\right\\rangle}\n",
    "\\newcommand{op}[1]{\\hat{#1}}\n",
    "\\newcommand{Op}[1]{\\hat{#1}}\n",
    "\\newcommand{dd}[0]{\\,\\text{d}}\n",
    "\\newcommand{Liouville}[0]{\\mathcal{L}}\n",
    "\\newcommand{DynMap}[0]{\\mathcal{E}}\n",
    "\\newcommand{identity}[0]{\\mathbf{1}}\n",
    "\\newcommand{Norm}[1]{\\lVert#1\\rVert}\n",
    "\\newcommand{Abs}[1]{\\left\\vert#1\\right\\vert}\n",
    "\\newcommand{avg}[1]{\\langle#1\\rangle}\n",
    "\\newcommand{Avg}[1]{\\left\\langle#1\\right\\rangle}\n",
    "\\newcommand{AbsSq}[1]{\\left\\vert#1\\right\\vert^2}\n",
    "\\newcommand{Re}[0]{\\operatorname{Re}}\n",
    "\\newcommand{Im}[0]{\\operatorname{Im}}$"
   ]
  },
  {
   "cell_type": "markdown",
   "metadata": {},
   "source": [
    "The purpose of this exercise is not to solve an especially interesting physical problem but to give a rather simple example of how the package can be used in order to solve an optimization problem.\n",
    "\n",
    "## Define the Hamiltonian\n",
    "\n",
    "In the\n",
    "following the Hamiltonian, guess field and\n",
    "states are defined.\n",
    "\n",
    "The Hamiltonian\n",
    "$\\op{H}_{0} = - \\omega \\op{\\sigma}_{z}$\n",
    "represents a\n",
    "simple qubit with energy\n",
    "level splitting $\\omega$ in the basis\n",
    "$\\{\\ket{0},\\ket{1}\\}$. The control\n",
    "field\n",
    "$\\epsilon(t)$ is assumed to couple via\n",
    "the\n",
    "Hamiltonian $\\op{H}_{1}(t) =\n",
    "\\epsilon(t) \\op{\\sigma}_{x}$ to the qubit,\n",
    "i.e., the control\n",
    "field effectively\n",
    "drives\n",
    "transitions between both qubit\n",
    "states."
   ]
  },
  {
   "cell_type": "code",
   "execution_count": 2,
   "metadata": {},
   "outputs": [],
   "source": [
    "def ham_and_states(omega=1.0, ampl0=0.1):\n",
    "    \"\"\"Two-level-system Hamiltonian\n",
    "    \n",
    "    Args:\n",
    "        omega (float): energy separation of the qubit levels\n",
    "        ampl0 (float): constant amplitude of the driving field\n",
    "    \"\"\"\n",
    "    H0 = - 0.5 * omega * qutip.operators.sigmaz()\n",
    "    H1 = qutip.operators.sigmax()\n",
    "    \n",
    "    psi0 = qutip.Qobj(np.array([1,0])) #State |0>\n",
    "    psi1 = qutip.Qobj(np.array([0,1])) #State |1>\n",
    "\n",
    "    eps0 = lambda t, args: ampl0 #Guess pulse\n",
    "    \n",
    "    return ([H0, [H1, eps0]], psi0, psi1)\n",
    "\n",
    "H, psi0, psi1 = ham_and_states()"
   ]
  },
  {
   "cell_type": "markdown",
   "metadata": {},
   "source": [
    "In addition, we define a shape function $S(t)$ which takes care of\n",
    "experimental limits such as the necessity of finite ramps\n",
    "at the beginning and\n",
    "end of the control field."
   ]
  },
  {
   "cell_type": "code",
   "execution_count": 3,
   "metadata": {},
   "outputs": [],
   "source": [
    "def S(t):\n",
    "    \"\"\"Shape function for the field update\"\"\"\n",
    "    return krotov.shapes.flattop(t, t_start=0, t_stop=3.5, t_rise=0.3, t_fall=0.3, func='sinsq')\n",
    "\n",
    "def shape_field(eps0):\n",
    "    \"\"\"Applies the shape function S(t) to the guess field\"\"\"\n",
    "    eps0_shaped = lambda t, args: eps0(t, args)*S(t)\n",
    "    return eps0_shaped\n",
    "\n",
    "H[1][1] = shape_field(H[1][1])"
   ]
  },
  {
   "cell_type": "markdown",
   "metadata": {},
   "source": [
    "Next, we define the time grid of the\n",
    "dynamics. As an example, we define the\n",
    "initial state to be at time $t=0$ and\n",
    "consider a total propagation time of\n",
    "$T=3.5$. The entire time grid is divided into\n",
    "$n_{t}=70$ equidistant time steps."
   ]
  },
  {
   "cell_type": "code",
   "execution_count": 4,
   "metadata": {},
   "outputs": [],
   "source": [
    "tlist = np.linspace(0,3.5, 70)"
   ]
  },
  {
   "cell_type": "markdown",
   "metadata": {},
   "source": [
    "## Define the optimization target"
   ]
  },
  {
   "cell_type": "markdown",
   "metadata": {},
   "source": [
    "We want to optimize a simple state-to-state\n",
    "transfer\n",
    "from initial state $\\ket{\\Psi_{\\init}} = \\ket{0}$ to the target state\n",
    "$\\ket{\\Psi_{\\tgt}} = \\ket{1}$, which we want to reach at final time $T$. Note\n",
    "that we also have to pass the Hamiltonian $\\op{H}(t)$ that determines the\n",
    "dynamics of\n",
    "the system."
   ]
  },
  {
   "cell_type": "code",
   "execution_count": 5,
   "metadata": {},
   "outputs": [],
   "source": [
    "objectives = [\n",
    "    krotov.Objective(initial_state=psi0, target=psi1, H=H)\n",
    "]"
   ]
  },
  {
   "cell_type": "markdown",
   "metadata": {},
   "source": [
    "We\n",
    "now tell the optimization to also use $S(t)$ as the update-shape for\n",
    "$\\epsilon_0(t)$. Wherever $S(t)$ is zero, the optimization will not change the\n",
    "value of the control from the original guess. In general, this shape function can be different from the one used to shape the guess pulse. In addition, we have to choose `lambda_a` for each control\n",
    "field. It controls the update magnitude of the respective field in each\n",
    "iteration."
   ]
  },
  {
   "cell_type": "code",
   "execution_count": 6,
   "metadata": {},
   "outputs": [],
   "source": [
    "pulse_options = {\n",
    "    H[1][1]: dict(lambda_a=7, shape=S)\n",
    "}"
   ]
  },
  {
   "cell_type": "markdown",
   "metadata": {},
   "source": [
    "It is convenient to introduce the function `print_fidelity`, which can be passed\n",
    "to the optimization procedure and will be called after each iteration and thus\n",
    "provides additional feedback about the optimization progress."
   ]
  },
  {
   "cell_type": "code",
   "execution_count": 7,
   "metadata": {},
   "outputs": [],
   "source": [
    "def print_fidelity(**args):\n",
    "    F_re = np.average(np.array(args['tau_vals']).real)\n",
    "    print(\"    F = %f\" % F_re)\n",
    "    return F_re"
   ]
  },
  {
   "cell_type": "markdown",
   "metadata": {},
   "source": [
    "## Simulate dynamics of the guess field\n",
    "\n",
    "Before heading towards the optimization\n",
    "procedure, we first simulate the\n",
    "dynamics under the guess field\n",
    "$\\epsilon_{0}(t)$.\n",
    "The following plot shows the guess field $\\epsilon_{0}(t)$."
   ]
  },
  {
   "cell_type": "code",
   "execution_count": 8,
   "metadata": {},
   "outputs": [
    {
     "data": {
      "image/png": "[encoded data removed]",
      "text/plain": [
       "<Figure size 432x288 with 1 Axes>"
      ]
     },
     "metadata": {
      "needs_background": "light"
     },
     "output_type": "display_data"
    }
   ],
   "source": [
    "def plot_pulse(pulse, tlist):\n",
    "    fig, ax = plt.subplots()\n",
    "    if callable(pulse):\n",
    "        pulse = np.array([pulse(t, args=None) for t in tlist])\n",
    "    ax.plot(tlist, pulse)\n",
    "    ax.set_xlabel('time')\n",
    "    ax.set_ylabel('pulse amplitude')\n",
    "    plt.show(fig)\n",
    "    \n",
    "plot_pulse(H[1][1], tlist)"
   ]
  },
  {
   "cell_type": "markdown",
   "metadata": {},
   "source": [
    "Then, we solve the equation of motion for the defined objective, which\n",
    "contains the initial state $\\ket{\\Psi_{\\init}}$ and the Hamiltonian $\\op{H}(t)$\n",
    "defining its evolution. To this end, we have to define the projectors $\\op{P}_0 = \\ket{0}\\bra{0}$ and $\\op{P}_1 = \\ket{1}\\bra{1}$ to compute their expecatation values. Afterwards, we plot the dynamics in a simple plot. It would also be possible to use the Bloch sphere representation."
   ]
  },
  {
   "cell_type": "code",
   "execution_count": 9,
   "metadata": {
    "scrolled": true
   },
   "outputs": [
    {
     "data": {
      "image/png": "[encoded data removed]",
      "text/plain": [
       "<Figure size 432x288 with 1 Axes>"
      ]
     },
     "metadata": {
      "needs_background": "light"
     },
     "output_type": "display_data"
    }
   ],
   "source": [
    "proj0 = psi0 * psi0.dag()\n",
    "proj1 = psi1 * psi1.dag()\n",
    "\n",
    "guess_dynamics = objectives[0].mesolve(tlist, e_ops=[proj0, proj1])\n",
    "\n",
    "def plot_population(result):\n",
    "    fig, ax = plt.subplots()\n",
    "    ax.plot(result.times, result.expect[0], label='0')\n",
    "    ax.plot(result.times, result.expect[1], label='1')\n",
    "    ax.legend()\n",
    "    ax.set_xlabel('time')\n",
    "    ax.set_ylabel('population')\n",
    "    plt.show(fig)\n",
    "    \n",
    "plot_population(guess_dynamics)"
   ]
  },
  {
   "cell_type": "markdown",
   "metadata": {},
   "source": [
    "## Optimization\n",
    "\n",
    "In the following we optimize the guess field $\\epsilon_{0}(t)$ such\n",
    "that the intended state-to-state transfer $\\ket{\\Psi_{\\init}} \\rightarrow\n",
    "\\ket{\\Psi_{\\tgt}}$ is solved.\n",
    "To this end, we\n",
    "choose the functional to be $F = F_{re}$ with\n",
    "\\begin{equation}\n",
    "F_{re}\n",
    "=\n",
    "\\Re\\Braket{\\Psi(T)}{\\Psi_{\\tgt}}\n",
    "\\end{equation}\n",
    "\n",
    "with\n",
    "$\\ket{\\Psi(T)}$ the\n",
    "forward propagated state of $\\ket{\\Psi_{\\init}}$."
   ]
  },
  {
   "cell_type": "code",
   "execution_count": 23,
   "metadata": {
    "scrolled": false
   },
   "outputs": [
    {
     "name": "stdout",
     "output_type": "stream",
     "text": [
      "  iter.        J_T     g_a_int          J  Delta_J_T    Delta J  secs\n",
      "      0   1.00e+00    0.00e+00   1.00e+00        n/a        n/a     0\n",
      "      1   8.87e-01    7.72e-03   8.95e-01  -1.13e-01  -1.05e-01     0\n",
      "      2   7.77e-01    7.51e-03   7.84e-01  -1.10e-01  -1.02e-01     0\n",
      "      3   6.73e-01    7.09e-03   6.80e-01  -1.04e-01  -9.68e-02     0\n",
      "      4   5.78e-01    6.53e-03   5.84e-01  -9.56e-02  -8.91e-02     0\n",
      "      5   4.92e-01    5.86e-03   4.98e-01  -8.58e-02  -8.00e-02     0\n",
      "      6   4.16e-01    5.14e-03   4.21e-01  -7.54e-02  -7.03e-02     0\n",
      "      7   3.51e-01    4.43e-03   3.56e-01  -6.51e-02  -6.07e-02     0\n",
      "      8   2.96e-01    3.76e-03   3.00e-01  -5.53e-02  -5.15e-02     0\n",
      "      9   2.50e-01    3.15e-03   2.53e-01  -4.63e-02  -4.32e-02     0\n",
      "     10   2.11e-01    2.61e-03   2.14e-01  -3.85e-02  -3.59e-02     0\n",
      "     11   1.79e-01    2.14e-03   1.82e-01  -3.17e-02  -2.95e-02     0\n",
      "     12   1.53e-01    1.75e-03   1.55e-01  -2.59e-02  -2.41e-02     0\n",
      "     13   1.32e-01    1.42e-03   1.34e-01  -2.11e-02  -1.97e-02     0\n",
      "     14   1.15e-01    1.15e-03   1.16e-01  -1.71e-02  -1.60e-02     0\n",
      "     15   1.01e-01    9.31e-04   1.02e-01  -1.39e-02  -1.29e-02     0\n",
      "     16   9.02e-02    7.51e-04   9.09e-02  -1.12e-02  -1.05e-02     0\n",
      "     17   8.10e-02    6.06e-04   8.17e-02  -9.11e-03  -8.50e-03     0\n",
      "     18   7.37e-02    4.90e-04   7.42e-02  -7.39e-03  -6.90e-03     0\n",
      "     19   6.77e-02    3.96e-04   6.81e-02  -6.00e-03  -5.61e-03     0\n",
      "     20   6.28e-02    3.21e-04   6.31e-02  -4.89e-03  -4.57e-03     0\n",
      "     21   5.88e-02    2.61e-04   5.90e-02  -4.00e-03  -3.74e-03     0\n",
      "     22   5.55e-02    2.14e-04   5.57e-02  -3.29e-03  -3.08e-03     0\n",
      "     23   5.28e-02    1.75e-04   5.29e-02  -2.72e-03  -2.54e-03     0\n",
      "     24   5.05e-02    1.45e-04   5.06e-02  -2.26e-03  -2.12e-03     0\n",
      "     25   4.86e-02    1.20e-04   4.87e-02  -1.89e-03  -1.77e-03     0\n",
      "     26   4.70e-02    1.01e-04   4.71e-02  -1.60e-03  -1.50e-03     0\n",
      "     27   4.56e-02    8.54e-05   4.57e-02  -1.36e-03  -1.28e-03     0\n",
      "     28   4.45e-02    7.30e-05   4.45e-02  -1.17e-03  -1.10e-03     0\n",
      "     29   4.35e-02    6.30e-05   4.35e-02  -1.02e-03  -9.56e-04     0\n",
      "     30   4.26e-02    5.50e-05   4.26e-02  -8.96e-04  -8.41e-04     0\n",
      "     31   4.18e-02    4.86e-05   4.18e-02  -7.96e-04  -7.47e-04     0\n",
      "     32   4.10e-02    4.34e-05   4.11e-02  -7.14e-04  -6.71e-04     0\n",
      "     33   4.04e-02    3.92e-05   4.04e-02  -6.48e-04  -6.09e-04     0\n",
      "     34   3.98e-02    3.58e-05   3.98e-02  -5.94e-04  -5.58e-04     0\n",
      "     35   3.93e-02    3.30e-05   3.93e-02  -5.49e-04  -5.16e-04     0\n",
      "     36   3.87e-02    3.08e-05   3.88e-02  -5.12e-04  -4.82e-04     0\n",
      "     37   3.83e-02    2.89e-05   3.83e-02  -4.82e-04  -4.53e-04     0\n",
      "     38   3.78e-02    2.74e-05   3.78e-02  -4.56e-04  -4.29e-04     0\n",
      "     39   3.74e-02    2.61e-05   3.74e-02  -4.35e-04  -4.08e-04     0\n",
      "     40   3.70e-02    2.50e-05   3.70e-02  -4.16e-04  -3.91e-04     0\n",
      "     41   3.66e-02    2.41e-05   3.66e-02  -4.00e-04  -3.76e-04     0\n",
      "     42   3.62e-02    2.33e-05   3.62e-02  -3.87e-04  -3.63e-04     0\n",
      "     43   3.58e-02    2.26e-05   3.58e-02  -3.75e-04  -3.52e-04     0\n",
      "     44   3.54e-02    2.20e-05   3.55e-02  -3.64e-04  -3.42e-04     0\n",
      "     45   3.51e-02    2.14e-05   3.51e-02  -3.54e-04  -3.33e-04     0\n",
      "     46   3.47e-02    2.09e-05   3.48e-02  -3.46e-04  -3.25e-04     0\n",
      "     47   3.44e-02    2.05e-05   3.44e-02  -3.38e-04  -3.18e-04     0\n",
      "     48   3.41e-02    2.01e-05   3.41e-02  -3.31e-04  -3.11e-04     0\n",
      "     49   3.37e-02    1.97e-05   3.38e-02  -3.24e-04  -3.04e-04     0\n",
      "     50   3.34e-02    1.93e-05   3.34e-02  -3.18e-04  -2.99e-04     0\n"
     ]
    }
   ],
   "source": [
    "oct_result = krotov.optimize_pulses(\n",
    "    objectives,\n",
    "    pulse_options=pulse_options,\n",
    "    tlist=tlist,\n",
    "    propagator=krotov.propagators.expm,\n",
    "    chi_constructor=krotov.functionals.chis_re,\n",
    "    info_hook=krotov.info_hooks.print_table(\n",
    "        J_T=krotov.functionals.J_T_re,\n",
    "        show_g_a_int_per_pulse=False,\n",
    "        unicode=False,\n",
    "    ),\n",
    "    check_convergence=krotov.convergence.Or(\n",
    "        krotov.convergence.value_below(1e-2, name='J_T'),\n",
    "        krotov.convergence.check_monotonic_error,\n",
    "        ),\n",
    "    iter_stop=50,\n",
    ")"
   ]
  },
  {
   "cell_type": "markdown",
   "metadata": {},
   "source": [
    "## Simulate dynamics of the optimized field\n",
    "\n",
    "Having obtained the optimized\n",
    "control field, we can now\n",
    "plot it and calculate the\n",
    "population dynamics under\n",
    "this field."
   ]
  },
  {
   "cell_type": "code",
   "execution_count": 24,
   "metadata": {},
   "outputs": [
    {
     "data": {
      "image/png": "[encoded data removed]",
      "text/plain": [
       "<Figure size 432x288 with 1 Axes>"
      ]
     },
     "metadata": {
      "needs_background": "light"
     },
     "output_type": "display_data"
    },
    {
     "name": "stderr",
     "output_type": "stream",
     "text": [
      "/home/sabrina/anaconda3/envs/qucontrolenv/lib/python3.6/site-packages/Cython/Compiler/Main.py:367: FutureWarning: Cython directive 'language_level' not set, using 2 for now (Py2). This will change in a later release! File: /home/sabrina/qusco_school_2019/notebooks/rhs104571.pyx\n",
      "  tree = Parsing.p_module(s, pxd, full_module_name)\n"
     ]
    },
    {
     "data": {
      "image/png": "[encoded data removed]",
      "text/plain": [
       "<Figure size 432x288 with 1 Axes>"
      ]
     },
     "metadata": {
      "needs_background": "light"
     },
     "output_type": "display_data"
    }
   ],
   "source": [
    "plot_pulse(oct_result.optimized_controls[0], tlist)\n",
    "\n",
    "opt_dynamics = oct_result.optimized_objectives[0].mesolve(\n",
    "    tlist, e_ops=[proj0, proj1])\n",
    "plot_population(opt_dynamics)"
   ]
  },
  {
   "cell_type": "markdown",
   "metadata": {},
   "source": [
    "# Tasks\n",
    "\n",
    "1) Vary the numerical parameters `lambda_a` and $n_{t}$ to improve the optimization. You should be able to reach the desired fidelity of 99% within less than 50 iterations. \n",
    "\n",
    "2) Try to improve the guess pulse to converge faster. Hint: The interesting parameters are `ampl0` and $T$/`t_stop` (Keep in mind to change it in the shape $S$ and in the time grid `tlist`). Also, a constant pulse might not be the best option as a guess pulse."
   ]
  }
 ],
 "metadata": {
  "kernelspec": {
   "display_name": "Python 3",
   "language": "python",
   "name": "python3"
  },
  "language_info": {
   "codemirror_mode": {
    "name": "ipython",
    "version": 3
   },
   "file_extension": ".py",
   "mimetype": "text/x-python",
   "name": "python",
   "nbconvert_exporter": "python",
   "pygments_lexer": "ipython3",
   "version": "3.6.8"
  }
 },
 "nbformat": 4,
 "nbformat_minor": 2
}
