{
 "cells": [
  {
   "cell_type": "markdown",
   "metadata": {},
   "source": [
    "<img src=\"QuSCo_Logo_CMYK.jpg\" alt=\"Here should be the qusco logo!\" width=\"500\">\n",
    "\n",
    "---"
   ]
  },
  {
   "cell_type": "code",
   "execution_count": null,
   "metadata": {},
   "outputs": [],
   "source": [
    "import numpy as np\n",
    "import scipy\n",
    "import matplotlib\n",
    "import matplotlib.pylab as plt\n",
    "import krotov\n",
    "import qutip\n",
    "from exercise_03_utils import *"
   ]
  },
  {
   "cell_type": "markdown",
   "metadata": {},
   "source": [
    "---"
   ]
  },
  {
   "cell_type": "markdown",
   "metadata": {},
   "source": [
    "# Exercises\n",
    "\n",
    "[Model](#Model)\n",
    "\n",
    "[Exercise 3.1: Implementing the System ](#Exercise-3.1:-Implementing-the-System)  \n",
    "[Exercise 3.2: Objective](#Exercise-3.2:-Objective)  \n",
    "[Exercise 3.3: Shaping our guess pulses](#Exercise-3.3:-Shaping-our-guess-pulses)  \n",
    "[Exercise 3.4: Specifying the pulse options](#Exercise-3.4:-Specifying-the-pulse-options)  \n",
    "[Exercise 3.5: The optimization](#Exercise-3.5:-The-optimization)  \n",
    "[Exercise 3.6: Analysing the results](#Exercise-3.6:-Analysing-the-results)\n",
    "\n",
    "[Bonus Exercise: Adding dissipation](#Bonus-exercise)"
   ]
  },
  {
   "cell_type": "markdown",
   "metadata": {},
   "source": [
    " \n",
    "---\n"
   ]
  },
  {
   "cell_type": "markdown",
   "metadata": {},
   "source": [
    "# Model\n"
   ]
  },
  {
   "cell_type": "markdown",
   "metadata": {},
   "source": [
    "$\\newcommand{tr}[0]{\\operatorname{tr}}\n",
    "\\newcommand{diag}[0]{\\operatorname{diag}}\n",
    "\\newcommand{abs}[0]{\\operatorname{abs}}\n",
    "\\newcommand{pop}[0]{\\operatorname{pop}}\n",
    "\\newcommand{aux}[0]{\\text{aux}}\n",
    "\\newcommand{opt}[0]{\\text{opt}}\n",
    "\\newcommand{tgt}[0]{\\text{tgt}}\n",
    "\\newcommand{init}[0]{\\text{init}}\n",
    "\\newcommand{lab}[0]{\\text{lab}}\n",
    "\\newcommand{rwa}[0]{\\text{rwa}}\n",
    "\\newcommand{bra}[1]{\\langle#1\\vert}\n",
    "\\newcommand{ket}[1]{\\vert#1\\rangle}\n",
    "\\newcommand{Bra}[1]{\\left\\langle#1\\right\\vert}\n",
    "\\newcommand{Ket}[1]{\\left\\vert#1\\right\\rangle}\n",
    "\\newcommand{Braket}[2]{\\left\\langle #1\\vphantom{#2} \\mid\n",
    "#2\\vphantom{#1}\\right\\rangle}\n",
    "\\newcommand{Ketbra}[2]{\\left\\vert#1\\vphantom{#2}\n",
    "\\right\\rangle \\hspace{-0.2em} \\left\\langle #2\\vphantom{#1}\\right\\vert}\n",
    "\\newcommand{e}[1]{\\mathrm{e}^{#1}}\n",
    "\\newcommand{op}[1]{\\hat{#1}}\n",
    "\\newcommand{Op}[1]{\\hat{#1}}\n",
    "\\newcommand{dd}[0]{\\,\\text{d}}\n",
    "\\newcommand{Liouville}[0]{\\mathcal{L}}\n",
    "\\newcommand{DynMap}[0]{\\mathcal{E}}\n",
    "\\newcommand{identity}[0]{\\mathbf{1}}\n",
    "\\newcommand{Norm}[1]{\\lVert#1\\rVert}\n",
    "\\newcommand{Abs}[1]{\\left\\vert#1\\right\\vert}\n",
    "\\newcommand{avg}[1]{\\langle#1\\rangle}\n",
    "\\newcommand{Avg}[1]{\\left\\langle#1\\right\\rangle}\n",
    "\\newcommand{AbsSq}[1]{\\left\\vert#1\\right\\vert^2}\n",
    "\\newcommand{Re}[0]{\\operatorname{Re}}\n",
    "\\newcommand{Im}[0]{\\operatorname{Im}}\n",
    "\\newcommand{toP}[0]{\\omega_{12}}\n",
    "\\newcommand{toS}[0]{\\omega_{23}}\n",
    "\\newcommand{oft}[0]{\\left(t\\right)}$\n",
    "Our model consists of a \"Lambda system\" as shown below.\n",
    "These levels interact with two pulses with the base frequency $\\omega_{\\mathrm{P}}$ (\"Pump\"-pulse) and $\\omega_{\\mathrm{S}}$ (\"Stokes\"-pulse), respectively. These pulses have time-dependent envelopes \n",
    "\\begin{align*}\n",
    "\\epsilon_{\\mathrm{P}}(t) &= \\frac{\\Omega_{\\mathrm{P}}^{(1)}(t)}{\\mu_{12}}\\cos({\\omega_{\\mathrm{P}}}t)\n",
    "                           +\\frac{\\Omega_{\\mathrm{P}}^{(2)}(t)}{\\mu_{12}}\\sin({\\omega_{\\mathrm{P}}}t) \\\\\n",
    "\\epsilon_{\\mathrm{S}}(t) &= \\frac{\\Omega_{\\mathrm{S}}^{(1)}(t)}{\\mu_{23}}\\cos({\\omega_{\\mathrm{S}}}t)\n",
    "                           +\\frac{\\Omega_{\\mathrm{S}}^{(2)}(t)}{\\mu_{23}}\\sin({\\omega_{\\mathrm{S}}}t),\n",
    "\\end{align*}\n",
    "With the coupling strength $\\mu_{ij}$ between the levels $i$ and $j$.\n",
    "The frequencies are chosen, such that they are close to the transition frequencies $\\ket{1}\\rightarrow\\ket{2}$ ($\\omega_{12}$) and $\\ket{3} \\rightarrow\\ket{2}$ ($\\omega_{32}$).\n",
    "To represent the evolution in the rotating frame, we use the free evolution operator\n",
    "\n",
    "\\begin{equation*}\n",
    "U_{0} =  \\begin{pmatrix}\n",
    "\\e{-i(\\omega_2-\\omega_{\\mathrm{P}})t} & 0 & 0 \\\\\n",
    "0 & \\e{-i \\omega_2 t} & 0 \\\\\n",
    "0 & 0 & \\e{-i(\\omega_2-\\omega_{\\mathrm{S}})t} \n",
    "\\end{pmatrix},\n",
    "\\end{equation*}\n",
    "\n",
    "with $\\omega_2 = E_2/\\hbar$ the frequency fo the energy level $\\ket{2}$.\n",
    "With this we can transform the Hamiltonian of the system \n",
    "\\begin{equation*}\n",
    "\\hat{H} = \\hat{H}_{0} + \\hat{H}_{1}  =  \\begin{pmatrix}\n",
    "E_1 & 0 & 0 \\\\\n",
    "0 & E_2 & 0 \\\\\n",
    "0 & 0 & E_3\n",
    "\\end{pmatrix}\n",
    "-\n",
    "\\begin{pmatrix}\n",
    "0 & \\mu_{12}\\epsilon_{\\mathrm{P}}(t) & 0 \\\\\n",
    "\\mu_{12}\\epsilon_{\\mathrm{P}}(t) & 0 & \\mu_{23}\\epsilon_{\\mathrm{P}}(t) \\\\\n",
    "0 & \\mu_{23}\\epsilon_{\\mathrm{P}}(t) & 0\n",
    "\\end{pmatrix},\n",
    "\\end{equation*}\n",
    "to \n",
    "\\begin{equation*}\n",
    "\\hat{H}' =  \\hbar \\begin{pmatrix}\n",
    "-\\Delta_{\\mathrm{P}} & \\Omega^{\\ast}_{\\mathrm{P}}(t) & 0 \\\\\n",
    "\\Omega_{\\mathrm{P}}(t) & 0 & \\Omega^{\\ast}_{\\mathrm{S}}(t) \\\\\n",
    "0 & \\Omega_{\\mathrm{S}}(t) & -\\Delta_{\\mathrm{S}}\n",
    "\\end{pmatrix},\n",
    "\\end{equation*}\n",
    "with $\\Delta_{\\mathrm{P}} = E_1 + \\omega_{\\mathrm{P}} - E_2$ and $\\Delta_{\\mathrm{S}} = E_3 + \\omega_{\\mathrm{S}} - E_2$.\n",
    "The envelopes become complex with $\\Omega_{\\mathrm{P}} = \\Omega^{(1)}_{\\mathrm{P}} + i\\Omega^{(2)}_{\\mathrm{P}}$ and $\\Omega_{\\mathrm{S}} = \\Omega^{(1)}_{\\mathrm{S}} + i\\Omega^{(2)}_{\\mathrm{S}}$.\n",
    "\n",
    "In the following, we will optimize the real and imaginary part of $\\Omega_{\\mathrm{S}}$ and $\\Omega_{\\mathrm{P}}$ independently. \n",
    "\n",
    "\n",
    "\n"
   ]
  },
  {
   "cell_type": "markdown",
   "metadata": {},
   "source": [
    "<img src=\"tikzpics/energylevels.png\" alt=\"Lambda system considered in this notebook\" width=\"500\">"
   ]
  },
  {
   "cell_type": "markdown",
   "metadata": {},
   "source": [
    "---"
   ]
  },
  {
   "cell_type": "markdown",
   "metadata": {},
   "source": [
    "# Exercise 3.1: Implementing the System"
   ]
  },
  {
   "cell_type": "markdown",
   "metadata": {},
   "source": [
    "&nbsp;&nbsp;&nbsp;\n",
    "**a)** Set up H0 as described above."
   ]
  },
  {
   "cell_type": "code",
   "execution_count": null,
   "metadata": {},
   "outputs": [],
   "source": [
    "#Parameters\n",
    "E1 = 0.\n",
    "E2 = 10.\n",
    "E3 = 5.\n",
    "ω_P = 9.5\n",
    "ω_S = 4.5\n",
    "Ω_init = 5.\n",
    "tlist = np.linspace(0.,5,500)"
   ]
  },
  {
   "cell_type": "code",
   "execution_count": null,
   "metadata": {},
   "outputs": [],
   "source": [
    "H0 =  '---'"
   ]
  },
  {
   "cell_type": "markdown",
   "metadata": {},
   "source": [
    "&nbsp;&nbsp;&nbsp;\n",
    "**b)** Set up the real and imaginary part of $\\mathrm{H}_{1P}$ and $\\mathrm{H}_{1S}$, according to the definition above."
   ]
  },
  {
   "cell_type": "code",
   "execution_count": null,
   "metadata": {},
   "outputs": [],
   "source": [
    "# Qutip objects holding the real and imaginary part of the Hamiltoninan H_1P\n",
    "H1P_re = '---'  \n",
    "H1P_im = '---'\n",
    "# initial funtions, which will later be contorls\n",
    "ΩP_re = lambda t, args: Ω_init\n",
    "ΩP_im = lambda t, args: Ω_init"
   ]
  },
  {
   "cell_type": "code",
   "execution_count": null,
   "metadata": {},
   "outputs": [],
   "source": [
    "# Qutip objects holding the real and imaginary part of the Hamiltoninan H_1S\n",
    "H1S_re = '---'\n",
    "H1S_im = '---'\n",
    "# initial funtions, which will later be contorls\n",
    "ΩS_re = lambda t, args: Ω_init    \n",
    "ΩS_im = lambda t, args: Ω_init"
   ]
  },
  {
   "cell_type": "markdown",
   "metadata": {},
   "source": [
    "&nbsp;&nbsp;&nbsp;\n",
    "**c)** Specify the initial $\\big(\\Psi_0 = \\ket{1}\\big)$ and the target state $\\big(\\Psi_1 = \\ket{3}\\big)$ for the optimization."
   ]
  },
  {
   "cell_type": "code",
   "execution_count": null,
   "metadata": {},
   "outputs": [],
   "source": [
    "\"\"\"Initial and target states\"\"\"\n",
    "psi0 = '---'\n",
    "psi1 = '---'    "
   ]
  },
  {
   "cell_type": "code",
   "execution_count": null,
   "metadata": {},
   "outputs": [],
   "source": [
    "#q1c.hint()"
   ]
  },
  {
   "cell_type": "markdown",
   "metadata": {},
   "source": [
    "&nbsp;&nbsp;&nbsp;\n",
    "**d)** Define the overall Hamiltonian by combining the partial Hamiltoians defined in *b)* with the corresponding control."
   ]
  },
  {
   "cell_type": "code",
   "execution_count": null,
   "metadata": {},
   "outputs": [],
   "source": [
    "\"\"\"Final Hamiltonian\"\"\"\n",
    "Ham = [H0, \"...\"]"
   ]
  },
  {
   "cell_type": "code",
   "execution_count": null,
   "metadata": {},
   "outputs": [],
   "source": [
    "#q1d.hint()"
   ]
  },
  {
   "cell_type": "markdown",
   "metadata": {},
   "source": [
    "&nbsp;&nbsp;&nbsp;\n",
    "**e)** Finally specify the projectors $\\hat{P}_i = \\ket{i}\\bra{i}$."
   ]
  },
  {
   "cell_type": "code",
   "execution_count": null,
   "metadata": {},
   "outputs": [],
   "source": [
    "proj1 = '---'\n",
    "proj2 = '---'\n",
    "proj3 = '---'"
   ]
  },
  {
   "cell_type": "markdown",
   "metadata": {},
   "source": [
    "------"
   ]
  },
  {
   "cell_type": "markdown",
   "metadata": {},
   "source": [
    "# Exercise 3.2: Objective"
   ]
  },
  {
   "cell_type": "markdown",
   "metadata": {},
   "source": [
    "As already mentioned in the first notebook, krotov's [`optimize_pulse`](https://krotov.readthedocs.io/en/stable/API/krotov.optimize.html#krotov.optimize.optimize_pulses) method takes so called objectives.\n",
    "These hold all the information about the goal of the optimization.\n",
    "\n",
    "&nbsp;&nbsp;&nbsp;&nbsp;&nbsp;&nbsp;\n",
    "Define the objective corresponding to our optimization goal"
   ]
  },
  {
   "cell_type": "code",
   "execution_count": null,
   "metadata": {},
   "outputs": [],
   "source": [
    "objective = '---'"
   ]
  },
  {
   "cell_type": "code",
   "execution_count": null,
   "metadata": {},
   "outputs": [],
   "source": [
    "#q2.hint()"
   ]
  },
  {
   "cell_type": "markdown",
   "metadata": {},
   "source": [
    "---"
   ]
  },
  {
   "cell_type": "markdown",
   "metadata": {},
   "source": [
    "# Exercise 3.3: Shaping our guess pulses"
   ]
  },
  {
   "cell_type": "markdown",
   "metadata": {},
   "source": [
    "In order to demonstrate Krotov’s optimization method, we choose an initial guess consisting of two low intensity and real Blackman pulses which are temporally disjoint. These should look like the following pulses:\n",
    "<img src=\"plots/ex2_guess_pulse.png\" alt=\"Here should actually be the Guess Pulses...Ask your advisor if you see this text...\" width=\"700\">"
   ]
  },
  {
   "cell_type": "markdown",
   "metadata": {},
   "source": [
    "&nbsp;&nbsp;&nbsp;\n",
    "**a)** Write two functions, which will be used as guess pulses for the real and imaginary controls. Try to reproduce the pulses in the plots above.  \n",
    "&nbsp;&nbsp;&nbsp;\n",
    "*Hint1: Krotov's\n",
    "[blackman function](https://krotov.readthedocs.io/en/stable/API/krotov.shapes.html#krotov.shapes.blackman)\n",
    "in the krotov.shape module might be usefull here.*  \n",
    "&nbsp;&nbsp;&nbsp;\n",
    "*Hint2: If you have everything set up, go on to b) and finally plot your results in c).  \n",
    "&nbsp;&nbsp;&nbsp;&nbsp;&nbsp;&nbsp;&nbsp;&nbsp;&nbsp;&nbsp;&nbsp;&nbsp;&nbsp;\n",
    "If it does not look as indented, come back to a).*\n",
    "\n",
    "&nbsp;&nbsp;&nbsp;\n",
    "*Note: The functions return again a function. This one is the one, that is used for calculating the control!*"
   ]
  },
  {
   "cell_type": "code",
   "execution_count": null,
   "metadata": {},
   "outputs": [],
   "source": [
    "def shape_field_real('--arguments-you-need--'):\n",
    "    \n",
    "    #Note, that the function needs to take 2 arguments.\n",
    "    #You can omitt the 'args' one\n",
    "    def field_shaped(t, args):\n",
    "        \n",
    "        ### how should the field look like\n",
    "        pass\n",
    "        ### insert the function here that calculates it\n",
    "        \n",
    "    return field_shaped\n"
   ]
  },
  {
   "cell_type": "code",
   "execution_count": null,
   "metadata": {},
   "outputs": [],
   "source": [
    "def shape_field_imag('--arguments-you-need--'):\n",
    "    \n",
    "    #Note, that the function needs to take 2 arguments.\n",
    "    #You can omitt the 'args' one\n",
    "    def field_shaped(t, args):\n",
    "        ### how should the field look like\n",
    "        pass\n",
    "        ### insert the function here that calculates it\n",
    "\n",
    "    return field_shaped"
   ]
  },
  {
   "cell_type": "code",
   "execution_count": null,
   "metadata": {},
   "outputs": [],
   "source": [
    "#q3a.hint()"
   ]
  },
  {
   "cell_type": "markdown",
   "metadata": {},
   "source": [
    "&nbsp;&nbsp;&nbsp;\n",
    "**b)** When done, assign the functions to the individual parts of the Hamiltonian"
   ]
  },
  {
   "cell_type": "code",
   "execution_count": null,
   "metadata": {},
   "outputs": [],
   "source": [
    "Ham[1][1] = '...'\n",
    "Ham[2][1] = '...'\n",
    "Ham[3][1] = '...'\n",
    "Ham[4][1] = '...'"
   ]
  },
  {
   "cell_type": "markdown",
   "metadata": {},
   "source": [
    "&nbsp;&nbsp;&nbsp;\n",
    "**c)** Verify that everything works as expected by executing the cell below.  \n",
    "&nbsp;&nbsp;&nbsp;\n",
    "*Note: You might want to choose more expressive titles in the `plot_pulse` routine*"
   ]
  },
  {
   "cell_type": "code",
   "execution_count": null,
   "metadata": {},
   "outputs": [],
   "source": [
    "def plot_pulse(pulse, tlist, ax, title):\n",
    "    if callable(pulse):\n",
    "        pulse = np.array([pulse(t, args=None) for t in tlist])\n",
    "    ax.plot(tlist, pulse)\n",
    "    ax.set_xlabel('time')\n",
    "    ax.set_ylabel('pulse amplitude')\n",
    "    ax.set_title(title)\n",
    "     \n",
    "fig, ax = plt.subplots(2,2)\n",
    "plot_pulse(Ham[1][1], tlist, ax[0,0], title='Ham[1][1]')\n",
    "plot_pulse(Ham[2][1], tlist, ax[0,1], title='Ham[2][1]')\n",
    "plot_pulse(Ham[3][1], tlist, ax[1,0], title='Ham[3][1]')\n",
    "plot_pulse(Ham[4][1], tlist, ax[1,1], title='Ham[4][1]')\n",
    "plt.tight_layout()\n",
    "plt.show(fig)"
   ]
  },
  {
   "cell_type": "markdown",
   "metadata": {},
   "source": [
    "After having set up everything, let's see how good our guess is!\n",
    "Therefore we need to simulate the dynamics of the pulse.\n",
    "\n",
    "&nbsp;&nbsp;&nbsp;\n",
    "**d)** Use the [`mesolve` function](https://krotov.readthedocs.io/en/stable/API/krotov.objectives.html#krotov.objectives.Objective.mesolve) of your objective to calculate the resulting populations of the individual states.  \n",
    "&nbsp;&nbsp;&nbsp;\n",
    "Make sure you give the right expectation operators to the function!"
   ]
  },
  {
   "cell_type": "code",
   "execution_count": null,
   "metadata": {},
   "outputs": [],
   "source": [
    "guess_dynamics = '---'"
   ]
  },
  {
   "cell_type": "code",
   "execution_count": null,
   "metadata": {},
   "outputs": [],
   "source": [
    "#q3d.hint()"
   ]
  },
  {
   "cell_type": "markdown",
   "metadata": {},
   "source": [
    "Let's see what comes out:"
   ]
  },
  {
   "cell_type": "code",
   "execution_count": null,
   "metadata": {},
   "outputs": [],
   "source": [
    "fig, ax = plt.subplots()\n",
    "ax.plot(guess_dynamics.times, guess_dynamics.expect[0], label='Projector 1')\n",
    "ax.plot(guess_dynamics.times, guess_dynamics.expect[1], label='Projector 2')\n",
    "ax.plot(guess_dynamics.times, guess_dynamics.expect[2], label='Projector 3')\n",
    "ax.legend()\n",
    "ax.set_xlabel('time')\n",
    "ax.set_ylabel('population')\n",
    "plt.show(fig)"
   ]
  },
  {
   "cell_type": "markdown",
   "metadata": {},
   "source": [
    "&nbsp;&nbsp;&nbsp;\n",
    "**e)** Does this make sense?"
   ]
  },
  {
   "cell_type": "raw",
   "metadata": {},
   "source": []
  },
  {
   "cell_type": "markdown",
   "metadata": {},
   "source": [
    "---"
   ]
  },
  {
   "cell_type": "markdown",
   "metadata": {},
   "source": [
    "# Exercise 3.4: Specifying the pulse options"
   ]
  },
  {
   "cell_type": "markdown",
   "metadata": {},
   "source": [
    "Now that our Hamiltonian is completely set up and the objective for our optimization is clear, we need to specify the parameters for the krotov algorithm.\n",
    "Therefore, we need to set the pulse options for the optimization."
   ]
  },
  {
   "cell_type": "markdown",
   "metadata": {},
   "source": [
    "First of all, we define the pulse shape. This needs to be between 0 and 1 and should go to 0 at the beginning and at the end of the time interval, which we take into account. As a first guess, we choose:"
   ]
  },
  {
   "cell_type": "code",
   "execution_count": null,
   "metadata": {},
   "outputs": [],
   "source": [
    "def update_shape(t):\n",
    "    \"\"\"Scales the Krotov methods update of the pulse value at the time t\"\"\"\n",
    "    return krotov.shapes.flattop(t,0.,5.,t_rise=.0001,func='sinsq')"
   ]
  },
  {
   "cell_type": "markdown",
   "metadata": {},
   "source": [
    "&nbsp;&nbsp;&nbsp;\n",
    "**a)** Play around with the `t_rise` parameter and plot the update shape with the following cell.\n",
    "Choose a resonable value.  \n",
    "&nbsp;&nbsp;&nbsp;\n",
    "You can later also play around with that and see how this changes you optimization."
   ]
  },
  {
   "cell_type": "code",
   "execution_count": null,
   "metadata": {},
   "outputs": [],
   "source": [
    "fig, ax = plt.subplots()\n",
    "ax.plot(tlist, np.vectorize(update_shape)(tlist))\n",
    "ax.set_xlabel('time')\n",
    "ax.set_ylabel('Update shape')\n",
    "plt.show(fig)"
   ]
  },
  {
   "cell_type": "markdown",
   "metadata": {},
   "source": [
    "Now let us continue to and define the pulse options. Unfortunatelly $\\lambda_a$ was very cautious estimated and might leed to very slow convergence.  \n",
    "&nbsp;&nbsp;&nbsp;\n",
    "**b)** Are you aware of how to change $\\lambda_a$? Carefully do that and play around with it after the first optimization in the next exercise"
   ]
  },
  {
   "cell_type": "code",
   "execution_count": null,
   "metadata": {},
   "outputs": [],
   "source": [
    "opt_lambda = 100\n",
    "pulse_options = {\n",
    "    Ham[1][1]: dict(lambda_a=opt_lambda, update_shape=update_shape),\n",
    "    Ham[2][1]: dict(lambda_a=opt_lambda, update_shape=update_shape),\n",
    "    Ham[3][1]: dict(lambda_a=opt_lambda, update_shape=update_shape),\n",
    "    Ham[4][1]: dict(lambda_a=opt_lambda, update_shape=update_shape)\n",
    "}"
   ]
  },
  {
   "cell_type": "code",
   "execution_count": null,
   "metadata": {},
   "outputs": [],
   "source": [
    "#q4b.hint()"
   ]
  },
  {
   "cell_type": "markdown",
   "metadata": {},
   "source": [
    "---"
   ]
  },
  {
   "cell_type": "markdown",
   "metadata": {},
   "source": [
    "# Exercise 3.5: The optimization"
   ]
  },
  {
   "cell_type": "markdown",
   "metadata": {},
   "source": [
    "Finally we can use krotov's optimize_pulses with all the information we build up in the previous examples.\n",
    "\n",
    "Fill in the following missing values, which are indicated by `'###############'`. Proceed as follows:\n",
    "\n",
    "&nbsp;&nbsp;&nbsp;\n",
    "**a)** Recall the structure of the function by using the [docs](https://krotov.readthedocs.io/en/stable/API/krotov.optimize.html#krotov.optimize.optimize_pulses).\n",
    "\n",
    "&nbsp;&nbsp;&nbsp;\n",
    "**b)** Which functional (and therefore which `chi_constructor`) do we need here?  \n",
    "&nbsp;&nbsp;&nbsp;\n",
    "Check the corresponding section in [Krotov's method](https://krotov.readthedocs.io/en/stable/06_krotovs_method.html#functionals) and choose from the [functionals module](https://krotov.readthedocs.io/en/stable/API/krotov.functionals.html).\n",
    "\n",
    "&nbsp;&nbsp;&nbsp;\n",
    "**c)** What do the values for the `check_convergence` and `iter_stop` argument mean?  \n",
    "&nbsp;&nbsp;&nbsp;\n",
    "Make a resonable choice here.\n",
    "\n",
    "&nbsp;&nbsp;&nbsp;\n",
    "**d)** Maybe your optimization takes quite some time! Adjust the relevant paramters to obtain a better convergence (and thus better results less time).  \n",
    "&nbsp;&nbsp;&nbsp;\n",
    "However, take care, that the changes you make are resonable (maybe we want to optimize for an experiment).\n",
    "\n",
    "\n"
   ]
  },
  {
   "cell_type": "code",
   "execution_count": null,
   "metadata": {},
   "outputs": [],
   "source": [
    "oct_result = krotov.optimize_pulses(\n",
    "    '#######a#######',\n",
    "    '#######a#######',\n",
    "    '#######a#######',\n",
    "    propagator=krotov.propagators.expm,\n",
    "    #\n",
    "    chi_constructor='#######b#######',\n",
    "    #\n",
    "    info_hook=krotov.info_hooks.print_table(\n",
    "        J_T='#######b#######',\n",
    "        unicode=True,\n",
    "    ),\n",
    "    check_convergence=krotov.convergence.Or(\n",
    "        krotov.convergence.value_below('#######c#######', name='J_T'),\n",
    "        krotov.convergence.delta_below('#######c#######'),\n",
    "        krotov.convergence.check_motonic_error,\n",
    "    ),\n",
    "    iter_stop='#######c#######',\n",
    ")\n"
   ]
  },
  {
   "cell_type": "code",
   "execution_count": null,
   "metadata": {},
   "outputs": [],
   "source": [
    "#q5b.hint()"
   ]
  },
  {
   "cell_type": "code",
   "execution_count": null,
   "metadata": {},
   "outputs": [],
   "source": [
    "#q5c.hint()"
   ]
  },
  {
   "cell_type": "code",
   "execution_count": null,
   "metadata": {},
   "outputs": [],
   "source": [
    "#q5d.hint()"
   ]
  },
  {
   "cell_type": "code",
   "execution_count": null,
   "metadata": {},
   "outputs": [],
   "source": [
    "oct_result"
   ]
  },
  {
   "cell_type": "markdown",
   "metadata": {},
   "source": [
    "---"
   ]
  },
  {
   "cell_type": "markdown",
   "metadata": {},
   "source": [
    "# Exercise 3.6: Analysing the results"
   ]
  },
  {
   "cell_type": "markdown",
   "metadata": {},
   "source": [
    "So now let's see, how our solution looks like"
   ]
  },
  {
   "cell_type": "markdown",
   "metadata": {},
   "source": [
    "&nbsp;&nbsp;&nbsp;\n",
    "**a)** Get the resulting objectives from the [oct_result](https://krotov.readthedocs.io/en/stable/API/krotov.result.html) and use mesolve to simulate the dynamics under the optimized pulse (as in 3d))."
   ]
  },
  {
   "cell_type": "code",
   "execution_count": null,
   "metadata": {},
   "outputs": [],
   "source": [
    "opt_dynamics = '-------'"
   ]
  },
  {
   "cell_type": "code",
   "execution_count": null,
   "metadata": {},
   "outputs": [],
   "source": [
    "#q6a.hint()"
   ]
  },
  {
   "cell_type": "markdown",
   "metadata": {},
   "source": [
    "After simulating the optimized dynamics we can plot them via"
   ]
  },
  {
   "cell_type": "code",
   "execution_count": null,
   "metadata": {},
   "outputs": [],
   "source": [
    "fig, ax = plt.subplots()\n",
    "ax.plot(opt_dynamics.times, opt_dynamics.expect[0], label='Projector 1')\n",
    "ax.plot(opt_dynamics.times, opt_dynamics.expect[1], label='Projector 2')\n",
    "ax.plot(opt_dynamics.times, opt_dynamics.expect[2], label='Projector 3')\n",
    "ax.legend()\n",
    "ax.set_xlabel('time')\n",
    "ax.set_ylabel('population')\n",
    "plt.show(fig)"
   ]
  },
  {
   "cell_type": "markdown",
   "metadata": {},
   "source": [
    "---\n",
    "  \n",
    "Now we can also extract the optimized pulses and plot the amplitudes and phases of the pulses.\n",
    "To do this, you can use the following function, which takes the real and the imaginary part of the pulse and plot the amplitude and the phase:"
   ]
  },
  {
   "cell_type": "code",
   "execution_count": null,
   "metadata": {},
   "outputs": [],
   "source": [
    "def plot_pulse_amplitude_and_phase(pulse_real, pulse_imaginary,tlist):\n",
    "    ax1 = plt.subplot(211)\n",
    "    ax2 = plt.subplot(212)\n",
    "    amplitudes = [np.sqrt(x*x + y*y) for x,y in zip(pulse_real,pulse_imaginary)]\n",
    "    phases = [np.arctan2(y,x)/np.pi for x,y in zip(pulse_real,pulse_imaginary)]\n",
    "    ax1.plot(tlist,amplitudes)\n",
    "    ax1.set_xlabel('time')\n",
    "    ax1.set_ylabel('pulse amplitude')\n",
    "    ax2.plot(tlist,phases)\n",
    "    ax2.set_xlabel('time')\n",
    "    ax2.set_ylabel('pulse phase (π)')\n",
    "    plt.show()\n"
   ]
  },
  {
   "cell_type": "markdown",
   "metadata": {},
   "source": [
    "---\n",
    "&nbsp;&nbsp;&nbsp;\n",
    "**b)** Plot the optimized controls, which are contained in the [oct_result](https://krotov.readthedocs.io/en/stable/API/krotov.result.html)."
   ]
  },
  {
   "cell_type": "code",
   "execution_count": null,
   "metadata": {},
   "outputs": [],
   "source": [
    "\n",
    "print(\"pump pulse amplitude and phase:\")\n",
    "plot_pulse_amplitude_and_phase(\n",
    "        \"--real-pump-controls--\",\n",
    "        \"--imag-pump-controls--\", \n",
    "        tlist\n",
    "    )\n"
   ]
  },
  {
   "cell_type": "code",
   "execution_count": null,
   "metadata": {},
   "outputs": [],
   "source": [
    "\n",
    "print(\"Stokes pulse amplitude and phase:\")\n",
    "plot_pulse_amplitude_and_phase(\n",
    "        \"--real-stokes-controls--\",\n",
    "        \"--imag-stokes-controls--\", \n",
    "        tlist\n",
    "    )\n"
   ]
  },
  {
   "cell_type": "markdown",
   "metadata": {},
   "source": [
    "---"
   ]
  },
  {
   "cell_type": "markdown",
   "metadata": {},
   "source": [
    "---"
   ]
  },
  {
   "cell_type": "markdown",
   "metadata": {},
   "source": [
    "# Bonus exercise\n",
    "\n",
    "In more realistic physical system, we often have to deal with dissipation. Let's for example consider a spontaneous decay in level $\\ket{2}$. This can be a good approximation if the levels $\\ket{1}$ and $\\ket{3}$ have a decay time, which is much longer than the duration of the pulse.\n",
    "\n",
    "To prevent the \"loss\" of population from level $\\ket{2}$, we need will need to \"tell\" krotov how, that  $\\ket{2}$ should be avoided. We can do this by adding a phenomenological decay $-i\\gamma\\ket{2}\\bra{2}$ to the Hamiltonian.\n",
    "\n",
    "Add the dissipation with a loss of 0.5 to the Hamiltonian and do the optimization with again!\n",
    "\n",
    "*Hint:\n",
    "Since we have a non-hermitian Hamiltonian, we can no longer use the mesolve routine for the dynamics from QuTiP! Therefore, you need to use \n",
    "`obj.propagate` instead. You can use the code below:*"
   ]
  },
  {
   "cell_type": "code",
   "execution_count": null,
   "metadata": {},
   "outputs": [],
   "source": [
    "dynamics = \"--Add-objective-here--\".propagate(\n",
    "    tlist, propagator=krotov.propagators.expm, e_ops='--List-of-projectors--'\n",
    ")\n",
    "states = \"--Add-objective-here--\".propagate(\n",
    "    tlist, propagator=krotov.propagators.expm\n",
    ")"
   ]
  },
  {
   "cell_type": "markdown",
   "metadata": {},
   "source": [
    "You can also use the following block to plot the norm and its loss over time: "
   ]
  },
  {
   "cell_type": "code",
   "execution_count": null,
   "metadata": {},
   "outputs": [],
   "source": [
    "state_norm = lambda i: states.states[i].norm()\n",
    "states_norm=np.vectorize(state_norm)\n",
    "\n",
    "fig, ax = plt.subplots()\n",
    "ax.plot(states.times, states_norm(np.arange(len(states.states))))\n",
    "ax.set_title('Norm loss', fontsize = 15)\n",
    "ax.set_xlabel('time')\n",
    "ax.set_ylabel('state norm')\n",
    "plt.show(fig)"
   ]
  }
 ],
 "metadata": {
  "kernelspec": {
   "display_name": "Python 3 (ipykernel)",
   "language": "python",
   "name": "python3"
  },
  "language_info": {
   "codemirror_mode": {
    "name": "ipython",
    "version": 3
   },
   "file_extension": ".py",
   "mimetype": "text/x-python",
   "name": "python",
   "nbconvert_exporter": "python",
   "pygments_lexer": "ipython3",
   "version": "3.8.5"
  }
 },
 "nbformat": 4,
 "nbformat_minor": 4
}
